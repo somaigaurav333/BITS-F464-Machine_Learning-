{
 "cells": [
  {
   "cell_type": "code",
   "execution_count": 1,
   "metadata": {
    "_cell_guid": "b1076dfc-b9ad-4769-8c92-a6c4dae69d19",
    "_uuid": "8f2839f25d086af736a60e9eeb907d3b93b6e0e5",
    "execution": {
     "iopub.execute_input": "2023-03-26T14:14:26.565187Z",
     "iopub.status.busy": "2023-03-26T14:14:26.564714Z",
     "iopub.status.idle": "2023-03-26T14:14:26.578536Z",
     "shell.execute_reply": "2023-03-26T14:14:26.577466Z",
     "shell.execute_reply.started": "2023-03-26T14:14:26.565129Z"
    }
   },
   "outputs": [],
   "source": [
    "# This Python 3 environment comes with many helpful analytics libraries installed\n",
    "# It is defined by the kaggle/python Docker image: https://github.com/kaggle/docker-python\n",
    "# For example, here's several helpful packages to load\n",
    "\n",
    "import numpy as np # linear algebra\n",
    "import pandas as pd # data processing, CSV file I/O (e.g. pd.read_csv)\n",
    "import matplotlib.pyplot as plt\n",
    "import random\n",
    "\n",
    "# Input data files are available in the read-only \"../input/\" directory\n",
    "# For example, running this (by clicking run or pressing Shift+Enter) will list all files under the input directory\n",
    "\n",
    "# import os\n",
    "# for dirname, _, filenames in os.walk('/kaggle/input'):\n",
    "#     for filename in filenames:\n",
    "#         print(os.path.join(dirname, filename))\n",
    "\n",
    "# You can write up to 20GB to the current directory (/kaggle/working/) that gets preserved as output when you create a version using \"Save & Run All\" \n",
    "# You can also write temporary files to /kaggle/temp/, but they won't be saved outside of the current session"
   ]
  },
  {
   "cell_type": "code",
   "execution_count": 2,
   "metadata": {
    "execution": {
     "iopub.execute_input": "2023-03-26T14:14:26.581406Z",
     "iopub.status.busy": "2023-03-26T14:14:26.580529Z",
     "iopub.status.idle": "2023-03-26T14:14:26.599662Z",
     "shell.execute_reply": "2023-03-26T14:14:26.597655Z",
     "shell.execute_reply.started": "2023-03-26T14:14:26.581355Z"
    }
   },
   "outputs": [],
   "source": [
    "\n",
    "df = pd.read_csv(\"./dataset.csv\")\n",
    "# replacing B to -1 and M to 1 in target \"diagnosis\"\n",
    "df['diagnosis'].replace(['B', 'M'], [0, 1], inplace=True)\n",
    "df.drop(['id'], axis=1, inplace=True)\n",
    "\n",
    "\n",
    "# df.dropna(inplace=True)\n",
    "# df.drop(['id'],axis=1, inplace=True)\n",
    "\n"
   ]
  },
  {
   "cell_type": "code",
   "execution_count": 3,
   "metadata": {
    "execution": {
     "iopub.execute_input": "2023-03-26T14:14:26.602232Z",
     "iopub.status.busy": "2023-03-26T14:14:26.601829Z",
     "iopub.status.idle": "2023-03-26T14:14:26.635773Z",
     "shell.execute_reply": "2023-03-26T14:14:26.634353Z",
     "shell.execute_reply.started": "2023-03-26T14:14:26.602163Z"
    }
   },
   "outputs": [],
   "source": [
    "class LogisticRegression:\n",
    "    \n",
    "    def __init__(self, lr=0.01, epoch=1000):\n",
    "        self.learning_rate = lr\n",
    "        self.epoch = epoch\n",
    "        self.weights = None\n",
    "        self.bias = None\n",
    "        self.cost=np.zeros(epoch)\n",
    "        #self.history=[]\n",
    "    \n",
    "\n",
    "    \n",
    "    def sigmoid(self, z):\n",
    "        return 1 / (1 + np.exp(-z))\n",
    "    \n",
    "\n",
    "    def loss(self, h, y):\n",
    "        limit = 10**(-15)\n",
    "        for i in range(h.shape[0]):\n",
    "            if h[i]<(limit):\n",
    "                h[i]+=(limit)\n",
    "            elif (1-h[i])<limit:\n",
    "                h[i]-=(limit)\n",
    "        \n",
    "#         print(\"Loss is :\",h)\n",
    "        loss =(-y * np.log(h) -(1 - y) * np.log(1 - h)).mean()\n",
    "        return loss\n",
    "    \n",
    "    def batchgradient(self,X,y):\n",
    "        \n",
    "        print(\"Using batch gradient\")\n",
    "        n_samples, n_features = X.shape\n",
    "        for epoch in range(self.epoch):\n",
    "        # Compute the gradient using the entire dataset\n",
    "            z = np.dot(X,self.weights) + self.bias\n",
    "            y_pred = self.sigmoid(z)\n",
    "            error = y_pred - y      #computes diff betwn the predicted probs and the true target values\n",
    "            #Computes gradient of the cost function with respect to the weight parameters\n",
    "            grad_w = np.dot(X.T, error) / n_samples \n",
    "            #Computes the gradient of the cost function with respect to the bias parameter\n",
    "            grad_b = np.mean(error)\n",
    "\n",
    "            # Update the weights and bias\n",
    "            self.weights -= self.learning_rate * grad_w\n",
    "            self.bias -= self.learning_rate * grad_b\n",
    "            self.cost[epoch]=self.loss(y_pred,y)\n",
    "            \n",
    "            #self.history.append((epoch,self.cost(X,y)))\n",
    "            \n",
    "            #self.history.append((epoch,self.cost(X,y)))\n",
    "    \n",
    "    def minibatchgradient(self,X,y, batch_size = 40):\n",
    "        print(\"Using mini batch gradient\")\n",
    "        print(\"batch size is  \", batch_size)\n",
    "        n_samples, n_features = X.shape\n",
    "        X = X.to_numpy()\n",
    "        y = y.to_numpy()\n",
    "        for epoch in range(self.epoch):\n",
    "           \n",
    "            # Split the data into mini-batches\n",
    "            n_batches = n_samples // batch_size      #Compute the number of mini-batches.\n",
    "            epoch_err = np.zeros(n_batches)\n",
    "            for batch_idx in range(n_batches):  #Loop over each mini-batch.\n",
    "                start = batch_idx * batch_size   #Compute the starting index of the mini-batch.\n",
    "                end = start + batch_size      #Compute the ending index of the mini-batch.\n",
    "                X_batch = X[start:end]  \n",
    "                y_batch = y[start:end]\n",
    "                \n",
    "                # Compute the gradients using the mini-batch\n",
    "                z = np.dot(X_batch, self.weights) + self.bias\n",
    "     #Apply the sigmoid function to the linear combination to obtain the predicted output probabilities\n",
    "                y_pred = self.sigmoid(z)\n",
    "                error = y_pred - y_batch          #Calci diff between predicted and true values\n",
    "            #Compute the gradient of the loss with respect to the weights using the mini-batch\n",
    "                grad_w = np.dot(X_batch.T, error) / batch_size\n",
    "                grad_b = np.sum(error) / batch_size\n",
    "                \n",
    "                # Update the weights and bias\n",
    "                self.weights -= self.learning_rate * grad_w\n",
    "                self.bias -= self.learning_rate * grad_b\n",
    "                epoch_err[batch_idx] = self.loss(y_pred,y_batch)\n",
    "            self.cost[epoch] = epoch_err.mean()\n",
    "                \n",
    "    def stochasticgradient(self,X,y):\n",
    "            \n",
    "            print(\"Using stochastic gradient\")\n",
    "            n_samples, n_features = X.shape\n",
    "            self.weights = np.zeros(n_features)\n",
    "\n",
    "\n",
    "#           same as doing minibatch with batch size = 1\n",
    "            self.minibatchgradient(X,y,1)\n",
    "            \n",
    "\n",
    "\n",
    "                \n",
    "            \n",
    "    def fit(self, X, y,key):\n",
    "        \n",
    "        n_samples, n_features = X.shape\n",
    "        self.weights = np.zeros(n_features)\n",
    "        self.bias = 0\n",
    "        \n",
    "        if key==0:\n",
    "            \n",
    "            self.batchgradient(X,y)\n",
    "    \n",
    "        elif key==1:\n",
    "            \n",
    "            self.minibatchgradient(X,y)\n",
    "        \n",
    "        else:\n",
    "            \n",
    "            self.stochasticgradient(X,y)\n",
    "        \n",
    "            \n",
    "    \n",
    "    def predict(self, X,threshold):\n",
    "        \n",
    "        z = np.dot(X, self.weights) + self.bias\n",
    "        y_pred = self.sigmoid(z)\n",
    "        for i in range(y_pred.shape[0]):\n",
    "            if(y_pred[i] >=threshold):\n",
    "                y_pred[i] =1\n",
    "            else:\n",
    "                y_pred[i]=0\n",
    "        \n",
    "        return y_pred\n",
    "    \n",
    "    \n",
    "    \n",
    "    def accuracy(self,X,y,threshold):\n",
    "\n",
    "        y_predict=self.predict(X,threshold)\n",
    "        n=len(X)\n",
    "        accu=d=0  #Initializes accuracy variable to zero.d is index of current instance being evaluated.\n",
    "\n",
    "        for i in y:\n",
    "            if (i==y_predict[d]):\n",
    "                accu+=1\n",
    "            d+=1           \n",
    "\n",
    "        accu=accu/n\n",
    "        return accu\n",
    "    \n",
    "\n",
    "    def precision(self,X,y,threshold):\n",
    "            \n",
    "        y_predict=self.predict(X,threshold)   \n",
    "        d=0\n",
    "        true_pos=0\n",
    "        c=0\n",
    "\n",
    "        for i in y:\n",
    "            if (i==1 and y_predict[d]==1):\n",
    "                true_pos+=1\n",
    "            if(y_predict[d]==1):\n",
    "                c+=1\n",
    "\n",
    "            d+=1                                  #Increments d to keep track of the current instance being evaluated.\n",
    "\n",
    "        true_pos=true_pos/c\n",
    "        return true_pos\n",
    "   \n",
    "    \n",
    "    def recall(self,X,y,threshold):\n",
    "        \n",
    "        y_predict=self.predict(X,threshold)   \n",
    "        d=true_pos=false_neg=0\n",
    "\n",
    "        for i in y:\n",
    "            if (i==1 and y_predict[d]==1):\n",
    "                true_pos+=1\n",
    "\n",
    "            if (y_predict[d]==0 and i==1):\n",
    "                false_neg+=1\n",
    "\n",
    "            d+=1\n",
    "\n",
    "        rec=true_pos/(true_pos+false_neg)\n",
    "        return rec\n",
    "\n",
    "        \n",
    "        "
   ]
  },
  {
   "cell_type": "code",
   "execution_count": 4,
   "metadata": {
    "execution": {
     "iopub.execute_input": "2023-03-26T14:14:26.637362Z",
     "iopub.status.busy": "2023-03-26T14:14:26.637008Z",
     "iopub.status.idle": "2023-03-26T14:26:37.080472Z",
     "shell.execute_reply": "2023-03-26T14:26:37.077945Z",
     "shell.execute_reply.started": "2023-03-26T14:14:26.637329Z"
    },
    "scrolled": false
   },
   "outputs": [
    {
     "name": "stdout",
     "output_type": "stream",
     "text": [
      "Enter 0/1/2 for batch/minibatch/stochastic\n",
      "0\n",
      "enter threshold for non normalized\n",
      "0.5\n",
      "Iteration number :  1 \n",
      "\n",
      "Using batch gradient\n"
     ]
    },
    {
     "name": "stderr",
     "output_type": "stream",
     "text": [
      "C:\\Users\\Bhaarath\\AppData\\Local\\Temp\\ipykernel_20076\\3141254476.py:14: RuntimeWarning: overflow encountered in exp\n",
      "  return 1 / (1 + np.exp(-z))\n"
     ]
    },
    {
     "data": {
      "image/png": "[encoded data removed]",
      "text/plain": [
       "<Figure size 432x288 with 1 Axes>"
      ]
     },
     "metadata": {
      "needs_background": "light"
     },
     "output_type": "display_data"
    },
    {
     "name": "stdout",
     "output_type": "stream",
     "text": [
      "Accuracy,Precision,Recall =  0.9468085106382979 0.9452054794520548 0.92\n",
      "\n",
      "Iteration number :  2 \n",
      "\n",
      "Using batch gradient\n"
     ]
    },
    {
     "name": "stderr",
     "output_type": "stream",
     "text": [
      "C:\\Users\\Bhaarath\\AppData\\Local\\Temp\\ipykernel_20076\\3141254476.py:14: RuntimeWarning: overflow encountered in exp\n",
      "  return 1 / (1 + np.exp(-z))\n"
     ]
    },
    {
     "name": "stdout",
     "output_type": "stream",
     "text": [
      "Iteration number :  3 \n",
      "\n",
      "Using batch gradient\n"
     ]
    },
    {
     "name": "stderr",
     "output_type": "stream",
     "text": [
      "C:\\Users\\Bhaarath\\AppData\\Local\\Temp\\ipykernel_20076\\3141254476.py:14: RuntimeWarning: overflow encountered in exp\n",
      "  return 1 / (1 + np.exp(-z))\n"
     ]
    },
    {
     "name": "stdout",
     "output_type": "stream",
     "text": [
      "Iteration number :  4 \n",
      "\n",
      "Using batch gradient\n"
     ]
    },
    {
     "name": "stderr",
     "output_type": "stream",
     "text": [
      "C:\\Users\\Bhaarath\\AppData\\Local\\Temp\\ipykernel_20076\\3141254476.py:14: RuntimeWarning: overflow encountered in exp\n",
      "  return 1 / (1 + np.exp(-z))\n"
     ]
    },
    {
     "name": "stdout",
     "output_type": "stream",
     "text": [
      "Iteration number :  5 \n",
      "\n",
      "Using batch gradient\n"
     ]
    },
    {
     "name": "stderr",
     "output_type": "stream",
     "text": [
      "C:\\Users\\Bhaarath\\AppData\\Local\\Temp\\ipykernel_20076\\3141254476.py:14: RuntimeWarning: overflow encountered in exp\n",
      "  return 1 / (1 + np.exp(-z))\n"
     ]
    },
    {
     "name": "stdout",
     "output_type": "stream",
     "text": [
      "Iteration number :  6 \n",
      "\n",
      "Using batch gradient\n"
     ]
    },
    {
     "name": "stderr",
     "output_type": "stream",
     "text": [
      "C:\\Users\\Bhaarath\\AppData\\Local\\Temp\\ipykernel_20076\\3141254476.py:14: RuntimeWarning: overflow encountered in exp\n",
      "  return 1 / (1 + np.exp(-z))\n"
     ]
    },
    {
     "name": "stdout",
     "output_type": "stream",
     "text": [
      "Iteration number :  7 \n",
      "\n",
      "Using batch gradient\n"
     ]
    },
    {
     "name": "stderr",
     "output_type": "stream",
     "text": [
      "C:\\Users\\Bhaarath\\AppData\\Local\\Temp\\ipykernel_20076\\3141254476.py:14: RuntimeWarning: overflow encountered in exp\n",
      "  return 1 / (1 + np.exp(-z))\n"
     ]
    },
    {
     "name": "stdout",
     "output_type": "stream",
     "text": [
      "Iteration number :  8 \n",
      "\n",
      "Using batch gradient\n"
     ]
    },
    {
     "name": "stderr",
     "output_type": "stream",
     "text": [
      "C:\\Users\\Bhaarath\\AppData\\Local\\Temp\\ipykernel_20076\\3141254476.py:14: RuntimeWarning: overflow encountered in exp\n",
      "  return 1 / (1 + np.exp(-z))\n"
     ]
    },
    {
     "name": "stdout",
     "output_type": "stream",
     "text": [
      "Iteration number :  9 \n",
      "\n",
      "Using batch gradient\n"
     ]
    },
    {
     "name": "stderr",
     "output_type": "stream",
     "text": [
      "C:\\Users\\Bhaarath\\AppData\\Local\\Temp\\ipykernel_20076\\3141254476.py:14: RuntimeWarning: overflow encountered in exp\n",
      "  return 1 / (1 + np.exp(-z))\n"
     ]
    },
    {
     "name": "stdout",
     "output_type": "stream",
     "text": [
      "Iteration number :  10 \n",
      "\n",
      "Using batch gradient\n"
     ]
    },
    {
     "name": "stderr",
     "output_type": "stream",
     "text": [
      "C:\\Users\\Bhaarath\\AppData\\Local\\Temp\\ipykernel_20076\\3141254476.py:14: RuntimeWarning: overflow encountered in exp\n",
      "  return 1 / (1 + np.exp(-z))\n"
     ]
    },
    {
     "name": "stdout",
     "output_type": "stream",
     "text": [
      "Mean accuracy for 10 iterations =  0.8819148936170211\n",
      "Mean precision for 10 iterations =  0.8717602585939354\n",
      "Mean recall for 10 iterations =  0.8495450875116468\n",
      "enter threshold for normalized\n",
      "0.6\n",
      "Iteration number :  1 \n",
      "\n",
      "Using batch gradient\n"
     ]
    },
    {
     "data": {
      "image/png": "[encoded data removed]",
      "text/plain": [
       "<Figure size 432x288 with 1 Axes>"
      ]
     },
     "metadata": {
      "needs_background": "light"
     },
     "output_type": "display_data"
    },
    {
     "name": "stdout",
     "output_type": "stream",
     "text": [
      "Accuracy,Precision,Recall =  0.9414893617021277 1.0 0.8307692307692308\n",
      "\n",
      "Iteration number :  2 \n",
      "\n",
      "Using batch gradient\n",
      "Iteration number :  3 \n",
      "\n",
      "Using batch gradient\n",
      "Iteration number :  4 \n",
      "\n",
      "Using batch gradient\n",
      "Iteration number :  5 \n",
      "\n",
      "Using batch gradient\n",
      "Iteration number :  6 \n",
      "\n",
      "Using batch gradient\n",
      "Iteration number :  7 \n",
      "\n",
      "Using batch gradient\n",
      "Iteration number :  8 \n",
      "\n",
      "Using batch gradient\n",
      "Iteration number :  9 \n",
      "\n",
      "Using batch gradient\n",
      "Iteration number :  10 \n",
      "\n",
      "Using batch gradient\n",
      "Mean accuracy for 10 iterations =  0.9627659574468085\n",
      "Mean precision for 10 iterations =  0.9954020221473279\n",
      "Mean recall for 10 iterations =  0.9024528820113717\n"
     ]
    }
   ],
   "source": [
    "# Unnormalized data\n",
    "\n",
    "\n",
    "\n",
    "print(\"Enter 0/1/2 for batch/minibatch/stochastic\")\n",
    "key=int(input())\n",
    "print(\"enter threshold for non normalized\")\n",
    "thr1=float(input())\n",
    "accu=0\n",
    "preci=0\n",
    "rec=0\n",
    "\n",
    "for i in range(10):\n",
    "    print(\"Iteration number : \",i+1,\"\\n\")\n",
    "    # Shuffle the original dataset\n",
    "    df = df.sample(frac=1).reset_index(drop=True)\n",
    "\n",
    "    # X_train,X_test,y_train,y_test = train_test_split(df_drop_na,df_na_map,test_size=0.33)\n",
    "\n",
    "     # deriving the training and testing datasets\n",
    "    numOfDataPoints = np.shape(df)[0]\n",
    "    trainingDataPoints = (int)(67/100 * numOfDataPoints)\n",
    "    \n",
    "    TrainingDataSet = df[:trainingDataPoints]\n",
    "    TestingDataSet = df[trainingDataPoints:]\n",
    "\n",
    "    # filling null values with mean\n",
    "    TrainingDataSet = TrainingDataSet.fillna(TrainingDataSet.mean())\n",
    "    TestingDataSet = TestingDataSet.fillna(TrainingDataSet.mean())\n",
    "\n",
    "    X_train = TrainingDataSet.drop('diagnosis', axis=1)\n",
    "    y_train = TrainingDataSet['diagnosis']\n",
    "\n",
    "    X_test = TestingDataSet.drop('diagnosis', axis=1)\n",
    "    y_test = TestingDataSet['diagnosis']\n",
    "    \n",
    "    \n",
    "    model=LogisticRegression()\n",
    "    model.fit(X_train,y_train,key)\n",
    "\n",
    "    y_pred=model.predict(X_test,thr1)\n",
    "#     print(y_pred)\n",
    "#     print()\n",
    "    a=model.accuracy(X_test,y_test,thr1)\n",
    "    p=model.precision(X_test,y_test,thr1)\n",
    "    r=model.recall(X_test,y_test,thr1)\n",
    "    accu+=a\n",
    "    preci+=p\n",
    "    rec+=r\n",
    "    \n",
    "    if (i%10==0):\n",
    "        \n",
    "        cost_=model.cost\n",
    "        plt.plot(cost_)\n",
    "        plt.xlabel('Iterations')\n",
    "        plt.ylabel('Cost Function')\n",
    "        plt.show()\n",
    "        print(\"Accuracy,Precision,Recall = \",a,p,r)\n",
    "        print()\n",
    "    \n",
    "print(\"Mean accuracy for 10 iterations = \",accu/10)\n",
    "print(\"Mean precision for 10 iterations = \",preci/10)\n",
    "print(\"Mean recall for 10 iterations = \",rec/10)\n",
    "\n",
    "\n",
    "\n",
    "\n",
    "\n",
    "\n",
    "print(\"enter threshold for normalized\")\n",
    "thr2=float(input())\n",
    "accuN=0\n",
    "preciN=0\n",
    "recN=0\n",
    "for i in range(10):\n",
    "    print(\"Iteration number : \",i+1,\"\\n\")\n",
    "    # Shuffle the original dataset\n",
    "    df = df.sample(frac=1).reset_index(drop=True)\n",
    "\n",
    "    # X_train,X_test,y_train,y_test = train_test_split(df_drop_na,df_na_map,test_size=0.33)\n",
    "\n",
    "     # deriving the training and testing datasets\n",
    "    numOfDataPoints = np.shape(df)[0]\n",
    "    trainingDataPoints = (int)(67/100 * numOfDataPoints)\n",
    "    \n",
    "    TrainingDataSet = df[:trainingDataPoints]\n",
    "    TestingDataSet = df[trainingDataPoints:]\n",
    "\n",
    "    # filling null values with mean\n",
    "    TrainingDataSet = TrainingDataSet.fillna(TrainingDataSet.mean())\n",
    "    TestingDataSet = TestingDataSet.fillna(TrainingDataSet.mean())\n",
    "\n",
    "    X_train = TrainingDataSet.drop('diagnosis', axis=1)\n",
    "    y_train = TrainingDataSet['diagnosis']\n",
    "\n",
    "    X_test = TestingDataSet.drop('diagnosis', axis=1)\n",
    "    y_test = TestingDataSet['diagnosis']\n",
    "    \n",
    "\n",
    "#     X_train,X_test,y_train,y_test = train_test_split(df_feature_eng2,df_mapped,test_size=0.33)\n",
    "    Normalized_X_train = (X_train - X_train.mean())/(X_train.std())\n",
    "    Normalized_X_test = (X_test - X_train.mean())/(X_train.std())\n",
    "    \n",
    "    model=LogisticRegression()\n",
    "    model.fit(Normalized_X_train,y_train,key)\n",
    "\n",
    "    y_pred=model.predict(Normalized_X_test,thr2)\n",
    "#   print(y_pred)\n",
    "    a=model.accuracy(Normalized_X_test,y_test,thr2)\n",
    "    p=model.precision(Normalized_X_test,y_test,thr2)\n",
    "    r=model.recall(Normalized_X_test,y_test,thr2)\n",
    "    accuN+=a\n",
    "    preciN+=p\n",
    "    recN+=r\n",
    "    \n",
    "    if (i%10==0):\n",
    "        \n",
    "        cost_=model.cost\n",
    "        plt.plot(cost_)\n",
    "        plt.xlabel('Iterations')\n",
    "        plt.ylabel('Cost Function')\n",
    "        plt.show()\n",
    "        print(\"Accuracy,Precision,Recall = \",a,p,r)\n",
    "        print()\n",
    "    \n",
    "    \n",
    "\n",
    "print(\"Mean accuracy for 10 iterations = \",accuN/10)\n",
    "print(\"Mean precision for 10 iterations = \",preciN/10)\n",
    "print(\"Mean recall for 10 iterations = \",recN/10)\n",
    "\n",
    "\n",
    "# we're printing graphs only for the first iteration"
   ]
  }
 ],
 "metadata": {
  "kernelspec": {
   "display_name": "Python 3 (ipykernel)",
   "language": "python",
   "name": "python3"
  },
  "language_info": {
   "codemirror_mode": {
    "name": "ipython",
    "version": 3
   },
   "file_extension": ".py",
   "mimetype": "text/x-python",
   "name": "python",
   "nbconvert_exporter": "python",
   "pygments_lexer": "ipython3",
   "version": "3.9.12"
  }
 },
 "nbformat": 4,
 "nbformat_minor": 4
}
